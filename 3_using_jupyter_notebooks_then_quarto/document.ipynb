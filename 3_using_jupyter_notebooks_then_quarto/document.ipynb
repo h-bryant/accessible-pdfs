{
 "cells": [
  {
   "cell_type": "raw",
   "id": "9daf67cf-9720-4017-82b8-640d2fe7ba8d",
   "metadata": {
    "slideshow": {
     "slide_type": "skip"
    }
   },
   "source": [
    "---\n",
    "# render: \"quarto render document.ipynb --to pdf\"\n",
    "\n",
    "execute:\n",
    "    cache: false\n",
    "\n",
    "format: \n",
    "    pdf:\n",
    "        documentclass: article\n",
    "        template: template.tex\n",
    "        pdf-engine: lualatex\n",
    "        toc: false\n",
    "        number-sections: true\n",
    "        colorlinks: true\n",
    "        code-block-bg: f7f7f7\n",
    "        include-in-header:\n",
    "            - text: |\n",
    "                \\title{Demo document} \n",
    "                \\usepackage{longtable}\n",
    "                \\usepackage{booktabs}\n",
    "                \\usepackage{graphicx}\n",
    "                \\usepackage[tightLists=true]{markdown}\n",
    "\n",
    "title: \"Demo document\"  # note: title needed both above and here!\n",
    "\n",
    "# bibliography: bibliography.bib\n",
    "---"
   ]
  },
  {
   "cell_type": "markdown",
   "id": "39fac98e-20c8-463d-b4d9-41d25776a4dc",
   "metadata": {},
   "source": [
    "# Start\n",
    "\n",
    "Body text.\n",
    "\n",
    "![Portrait of William Shakespeare](shake.jpg){ height=\"4cm\" }\n",
    "\n",
    "```{=latex}\n",
    "\\tagpdfsetup{table/header-rows={1,2}}\n",
    "```\n",
    "\n",
    "| Name | Value |\n",
    "|------|------:|\n",
    "| This | 11     |\n",
    "| That | 2      |\n",
    "\n",
    "\n",
    "# lists\n",
    "\n",
    "A list:\n",
    "\n",
    "* Level A1\n",
    "  - Level B1\n",
    "  - Level B2\n",
    "* Level A2\n",
    "\n",
    "\n",
    "# Basic mathematical expressions\n",
    "\n",
    "If $x$ is real, then $x^{2} \\geq 0$.\n",
    "\n",
    "A matrix equation.\n",
    "\n",
    "$$\n",
    "\\begin{pmatrix}0&1\\\\1&0\\end{pmatrix}\n",
    "\\begin{pmatrix}a&b\\\\c&d\\end{pmatrix}\n",
    "=\n",
    "\\begin{pmatrix}c&d\\\\a&b\\end{pmatrix}\n",
    "$$\n",
    "\n"
   ]
  }
 ],
 "metadata": {
  "kernelspec": {
   "display_name": "Python 3 (ipykernel)",
   "language": "python",
   "name": "python3"
  },
  "language_info": {
   "codemirror_mode": {
    "name": "ipython",
    "version": 3
   },
   "file_extension": ".py",
   "mimetype": "text/x-python",
   "name": "python",
   "nbconvert_exporter": "python",
   "pygments_lexer": "ipython3",
   "version": "3.13.3"
  }
 },
 "nbformat": 4,
 "nbformat_minor": 5
}
